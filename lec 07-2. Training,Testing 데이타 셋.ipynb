{
 "cells": [
  {
   "cell_type": "code",
   "execution_count": null,
   "metadata": {},
   "outputs": [],
   "source": [
    "# performance evaluation: os the good?\n",
    "# data->(ML model)\n",
    "# ex: training set을 model에 넣고 질문 or 예측?\n",
    "#   이 방법은 다 100%로 맞을 수도 있지만 좋은 방법은 아님\n",
    "\n",
    "# 앞에 있는 데이터: training set\n",
    "# 뒤에 있는 데이터: test set\n",
    "# model을 만들어 training set으로 훈련시키고 test set을 넣어봄\n",
    "# training set, test set으로 나누어서 평가해보아야 함\n",
    "\n",
    "# original set(training/validation, testing)\n",
    "# training: 교과서\n",
    "# validation: 실전 모의시험과 같은 것\n",
    "# testing: 시험\n",
    "\n",
    "# data set이 많을 때, online learning\n",
    "\n",
    "# MINIST Data set\n",
    "# :사람들이 쓴 손글씨(숫자)를 컴퓨터가 인식할 수 있는지 test\n",
    "\n",
    "# Acc"
   ]
  }
 ],
 "metadata": {
  "kernelspec": {
   "display_name": "Python 3",
   "language": "python",
   "name": "python3"
  },
  "language_info": {
   "codemirror_mode": {
    "name": "ipython",
    "version": 3
   },
   "file_extension": ".py",
   "mimetype": "text/x-python",
   "name": "python",
   "nbconvert_exporter": "python",
   "pygments_lexer": "ipython3",
   "version": "3.7.4"
  }
 },
 "nbformat": 4,
 "nbformat_minor": 2
}
