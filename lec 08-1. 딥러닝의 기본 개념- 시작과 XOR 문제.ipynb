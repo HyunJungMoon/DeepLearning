{
 "cells": [
  {
   "cell_type": "code",
   "execution_count": null,
   "metadata": {},
   "outputs": [],
   "source": [
    "# Ultimate dream: thinking machine\n",
    "\n",
    "# Activation Functions\n",
    "# xo(axon from a neuron) -> w0(synapse) : w0 * x0,\n",
    "#                                       : w1 * x1, ... : dendrite\n",
    "# dendrite -> cell body (시그마) wi * xi + b\n",
    "# (Activation Functions) -> output axon: f((시그마) wi * xi + b)\n",
    "# Activation Functions: 합한 값이 일정 값보다 크면 1, 작으면 0\n",
    "\n",
    "# Logistic regression units\n",
    "# hardware implementations\n",
    "\n",
    "# fales promises\n",
    "# 기계를 만들었던 박사님이 \"곧 스스로 학습-> 걷고 보고 말하고 글 쓰고 자기 생산, 자기 존재를 인식하게 된다.\"\n",
    "\n",
    "# (SIMPLE) AND/OR problem: linesrly separable?\n",
    "# 기계에 x1,x2를 넣었을 때 y가 나올까??\n",
    "\n",
    "# # (SIMPLE) XOR problem: linesrly separable?\n",
    "#             : 값이 다를 때만 1, 같으면 0\n",
    "# 어떻게 선을 그어도 100프로 맞는 선이 없다.\n",
    "\n",
    "# PERCEPTRONS 책\n",
    "# XOR은 지금으로 해결할 수가 없다(다른 도구가 필요)\n",
    "# w,b를 훈련할 수 없다.\n",
    "# We need to use MLP, multiayer perceptrons (multilayer neural nets)\n",
    "# No one on earth had found a viable way to train MLPs good enough to learn such simple functions.\n",
    "\n",
    "# backpropagation   (by Hinton)\n",
    "# w.b와 입력된 값을 이용해 출력을 만들어낼 수 있고\n",
    "# 가지고 있는 출력과 나온 출력이 다르면 그 error를 이용해 backward(뒤에서 전개)\n",
    "\n",
    "# convolutional Neural Networks\n",
    "# 고양이에게 그림을 보여주고 시신경의 뉴런의 활성화를 봄.\n",
    "# 그림마다 활성화되는 부분이 다름.\n",
    "# 그림을 볼 때 신경망세포가 전체를 보는 것이 아니라 담당하는 부분이 각자 다르고 나중에 합치는 것이 아닐까? 하는 생각을 함..\n",
    "# 그림을 잘라서 보내고 나중에 합치는 방법을 개발(약 90%)\n",
    "\n",
    "# 자동으로 주행하는 차\n",
    "# 영화(terminator2)\n",
    "\n",
    "# BIG Problem\n",
    "# 이전의 알고리즘만이 몇 개의 layer에서는 실행이 잘 되는데\n",
    "# 보통 많은 layer에서 진행되기 때문에\n",
    "# 의미가 거의 약해짐. 즉 많이 할수록 떨어짐\n",
    "\n",
    "# 다른 형태의 알고리즘이 생겨남: SVM, RandomForest, etc"
   ]
  }
 ],
 "metadata": {
  "kernelspec": {
   "display_name": "Python 3",
   "language": "python",
   "name": "python3"
  },
  "language_info": {
   "codemirror_mode": {
    "name": "ipython",
    "version": 3
   },
   "file_extension": ".py",
   "mimetype": "text/x-python",
   "name": "python",
   "nbconvert_exporter": "python",
   "pygments_lexer": "ipython3",
   "version": "3.7.4"
  }
 },
 "nbformat": 4,
 "nbformat_minor": 2
}
