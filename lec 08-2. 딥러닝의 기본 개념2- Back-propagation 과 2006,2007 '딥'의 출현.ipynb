{
 "cells": [
  {
   "cell_type": "code",
   "execution_count": null,
   "metadata": {},
   "outputs": [],
   "source": [
    "# CIFAR: 연구단체\n",
    "\n",
    "# breakthrough\n",
    "# 각각의 w가 있는데 처음의 초기값을 잘 준다면 학습할 수 있다는 것이 2006, 2007년에 밝혀짐.\n",
    "# 이름을  Deep Nets, Deep Learning으로\n",
    "\n",
    "# imagenet 챌린지로 주목?\n",
    "# 에러가 줄고 그림을 설명할 수도 있게 됨.\n",
    "\n",
    "# Deep API Learning\n",
    "# copy a file and save it to - your destination path\n",
    "\n",
    "# 노이즈가 많은 곳에서도 잘 알아들음\n",
    "# 알파고\n",
    "\n",
    "# 이전에는 왜 안되었을끼? 다음에 살펴봄\n",
    "\n",
    "# 나와 상관이 있는가? 이미 많은 곳에서 사용되고 있다.\n",
    "# ex. 유투브의 자막(소리를 듣고 알아서 만들어냄),\n",
    "#     facebook, goole검색, 넥플릭스, 아마존\n",
    "# 왜 지금 해야할까?\n",
    "# 학생, 연구자라면 지금 시작해도 늦지 않았고\n",
    "# 복잡하지 않아 누구나 시작 가능\n",
    "# 실용적으로 사용 가능\n",
    "# tensorflow, python 등\n",
    "# 재밌다\n",
    "\n"
   ]
  }
 ],
 "metadata": {
  "kernelspec": {
   "display_name": "Python 3",
   "language": "python",
   "name": "python3"
  },
  "language_info": {
   "codemirror_mode": {
    "name": "ipython",
    "version": 3
   },
   "file_extension": ".py",
   "mimetype": "text/x-python",
   "name": "python",
   "nbconvert_exporter": "python",
   "pygments_lexer": "ipython3",
   "version": "3.7.4"
  }
 },
 "nbformat": 4,
 "nbformat_minor": 2
}
